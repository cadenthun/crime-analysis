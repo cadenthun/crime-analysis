{
 "cells": [
  {
   "cell_type": "markdown",
   "id": "be601878-6bb6-46b8-a6b2-2aab5c5767fd",
   "metadata": {},
   "source": [
    "**Predicting Sex from Various Crime Tags**"
   ]
  },
  {
   "cell_type": "markdown",
   "id": "a6d62675-87a3-472c-b525-2f4e40a0ec53",
   "metadata": {},
   "source": [
    "importing containers "
   ]
  },
  {
   "cell_type": "code",
   "execution_count": 25,
   "id": "abbb5342-616e-43ab-8515-bf9883b78d96",
   "metadata": {},
   "outputs": [],
   "source": [
    "import pandas as pd\n",
    "import numpy as np\n",
    "from Clean_Data import data_cleaner\n",
    "from sklearn import preprocessing\n"
   ]
  },
  {
   "cell_type": "code",
   "execution_count": 26,
   "id": "3d6719c7-572e-4fab-aa5b-c4125e9e990d",
   "metadata": {},
   "outputs": [
    {
     "data": {
      "text/plain": [
       "<Clean_Data.data_cleaner at 0x7fda4bc711f0>"
      ]
     },
     "execution_count": 26,
     "metadata": {},
     "output_type": "execute_result"
    }
   ],
   "source": [
    "#call columns and change names\n",
    "\n",
    "data2020 = data_cleaner(\"Crime_Data_from_2020_to_Present.csv\")\n",
    "\n",
    "data2020.keepColumns([\"Rpt Dist No\", \"Crm Cd\", \"DATE OCC\", \"Vict Age\", \"Vict Descent\", \"Vict Sex\"]) \n",
    "\n",
    "oldNames = [\"Rpt Dist No\", \"Crm Cd\", \"DATE OCC\", \"Vict Age\", \"Vict Descent\", \"Vict Sex\"]\n",
    "newNames = [\"District\",\"Code\", \"Date\", \"Age\", \"Descent\", \"Sex\"]\n",
    "data2020.changeName(oldNames, newNames)"
   ]
  },
  {
   "cell_type": "code",
   "execution_count": 27,
   "id": "d643fa2e",
   "metadata": {},
   "outputs": [],
   "source": [
    "#drop the NaN rows\n",
    "\n",
    "data2020.delNa()"
   ]
  },
  {
   "cell_type": "code",
   "execution_count": 28,
   "id": "dee8bc1a-18bf-4cfe-b903-798a78b2653f",
   "metadata": {},
   "outputs": [
    {
     "name": "stdout",
     "output_type": "stream",
     "text": [
      "There were victim's with unknown sex, will delete all rows of victim's with unknown sex.\n",
      "Finished changing victim's sex to numbers (F = 0; M = 1)\n"
     ]
    }
   ],
   "source": [
    "# drop victims with unknown sex\n",
    "try:\n",
    "    data2020.sexToNum()\n",
    "except TypeError:\n",
    "    #dont know what this should print cuz the typeerror will already say the error \n",
    "    print(\"There were victim's with unknown sex, will delete all rows of victim's with unknown sex.\") \n",
    "    data2020.delRows()\n",
    "    data2020.sexToNum()\n",
    "finally:\n",
    "    print(\"Finished changing victim's sex to numbers (F = 0; M = 1)\")"
   ]
  },
  {
   "cell_type": "code",
   "execution_count": 29,
   "id": "ca40e23c",
   "metadata": {},
   "outputs": [
    {
     "data": {
      "text/plain": [
       "District  Code  Date                    Age  Descent  Sex\n",
       "1998      310   03/18/2021 12:00:00 AM  35   O        1      20\n",
       "702       231   05/30/2020 12:00:00 AM  0    W        1      17\n",
       "723       623   05/30/2020 12:00:00 AM  0    X        1      13\n",
       "1659      231   08/21/2020 12:00:00 AM  0    W        1      12\n",
       "702       231   05/30/2020 12:00:00 AM  0    X        1      12\n",
       "                                                             ..\n",
       "765       440   08/08/2020 12:00:00 AM  25   A        1       1\n",
       "                08/05/2021 12:00:00 AM  31   H        1       1\n",
       "                07/31/2021 12:00:00 AM  27   H        1       1\n",
       "                07/30/2022 12:00:00 AM  72   B        1       1\n",
       "2199      745   06/19/2021 12:00:00 AM  49   W        0       1\n",
       "Length: 468584, dtype: int64"
      ]
     },
     "execution_count": 29,
     "metadata": {},
     "output_type": "execute_result"
    }
   ],
   "source": [
    "data2020.value_counts()"
   ]
  },
  {
   "cell_type": "code",
   "execution_count": null,
   "id": "6d2a5cf6",
   "metadata": {},
   "outputs": [],
   "source": []
  },
  {
   "cell_type": "code",
   "execution_count": null,
   "id": "3560bd2a",
   "metadata": {},
   "outputs": [],
   "source": []
  },
  {
   "cell_type": "code",
   "execution_count": null,
   "id": "2161cb1f",
   "metadata": {},
   "outputs": [],
   "source": []
  },
  {
   "cell_type": "code",
   "execution_count": null,
   "id": "2a6ca134",
   "metadata": {},
   "outputs": [],
   "source": []
  },
  {
   "cell_type": "code",
   "execution_count": null,
   "id": "d0015075",
   "metadata": {},
   "outputs": [],
   "source": []
  },
  {
   "cell_type": "code",
   "execution_count": null,
   "id": "01c1a9ac",
   "metadata": {},
   "outputs": [],
   "source": []
  },
  {
   "cell_type": "code",
   "execution_count": null,
   "id": "f6541894",
   "metadata": {},
   "outputs": [],
   "source": []
  },
  {
   "cell_type": "code",
   "execution_count": null,
   "id": "0f6387cd",
   "metadata": {},
   "outputs": [],
   "source": []
  },
  {
   "cell_type": "code",
   "execution_count": null,
   "id": "413d185a",
   "metadata": {},
   "outputs": [],
   "source": []
  },
  {
   "cell_type": "code",
   "execution_count": null,
   "id": "229afaea",
   "metadata": {},
   "outputs": [],
   "source": []
  },
  {
   "cell_type": "code",
   "execution_count": null,
   "id": "ebe477bd",
   "metadata": {},
   "outputs": [],
   "source": []
  },
  {
   "cell_type": "code",
   "execution_count": null,
   "id": "fa1fe558",
   "metadata": {},
   "outputs": [],
   "source": []
  },
  {
   "cell_type": "code",
   "execution_count": null,
   "id": "0e9dc990",
   "metadata": {},
   "outputs": [],
   "source": []
  },
  {
   "cell_type": "code",
   "execution_count": null,
   "id": "2e140008",
   "metadata": {
    "scrolled": true
   },
   "outputs": [],
   "source": []
  },
  {
   "cell_type": "code",
   "execution_count": null,
   "id": "d9080e21",
   "metadata": {},
   "outputs": [],
   "source": []
  },
  {
   "cell_type": "code",
   "execution_count": null,
   "id": "121397e4",
   "metadata": {},
   "outputs": [],
   "source": []
  },
  {
   "cell_type": "code",
   "execution_count": null,
   "id": "5df166d5",
   "metadata": {},
   "outputs": [],
   "source": []
  },
  {
   "cell_type": "code",
   "execution_count": null,
   "id": "105a0bab",
   "metadata": {},
   "outputs": [],
   "source": []
  },
  {
   "cell_type": "code",
   "execution_count": null,
   "id": "deb8c9d2",
   "metadata": {
    "scrolled": true
   },
   "outputs": [],
   "source": []
  },
  {
   "cell_type": "code",
   "execution_count": null,
   "id": "59484608",
   "metadata": {},
   "outputs": [],
   "source": []
  },
  {
   "cell_type": "code",
   "execution_count": null,
   "id": "871ba979",
   "metadata": {},
   "outputs": [],
   "source": []
  },
  {
   "cell_type": "code",
   "execution_count": null,
   "id": "8a183c4b",
   "metadata": {},
   "outputs": [],
   "source": []
  },
  {
   "cell_type": "code",
   "execution_count": null,
   "id": "61788810",
   "metadata": {},
   "outputs": [],
   "source": []
  },
  {
   "cell_type": "code",
   "execution_count": null,
   "id": "de4f7e59",
   "metadata": {},
   "outputs": [],
   "source": []
  },
  {
   "cell_type": "code",
   "execution_count": null,
   "id": "20f67c03",
   "metadata": {},
   "outputs": [],
   "source": []
  },
  {
   "cell_type": "code",
   "execution_count": null,
   "id": "61c1cecf",
   "metadata": {},
   "outputs": [],
   "source": []
  }
 ],
 "metadata": {
  "kernelspec": {
   "display_name": "Python 3 (ipykernel)",
   "language": "python",
   "name": "python3"
  },
  "language_info": {
   "codemirror_mode": {
    "name": "ipython",
    "version": 3
   },
   "file_extension": ".py",
   "mimetype": "text/x-python",
   "name": "python",
   "nbconvert_exporter": "python",
   "pygments_lexer": "ipython3",
   "version": "3.9.12"
  }
 },
 "nbformat": 4,
 "nbformat_minor": 5
}
