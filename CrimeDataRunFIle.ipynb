{
 "cells": [
  {
   "cell_type": "markdown",
   "id": "be601878-6bb6-46b8-a6b2-2aab5c5767fd",
   "metadata": {},
   "source": [
    "**Predicting Sex from Various Crime Tags**"
   ]
  },
  {
   "cell_type": "markdown",
   "id": "a6d62675-87a3-472c-b525-2f4e40a0ec53",
   "metadata": {},
   "source": [
    "importing containers "
   ]
  },
  {
   "cell_type": "code",
   "execution_count": 27,
   "id": "abbb5342-616e-43ab-8515-bf9883b78d96",
   "metadata": {},
   "outputs": [],
   "source": [
    "import pandas as pd\n",
    "import numpy as np\n",
    "from Clean_Data import clean_data"
   ]
  },
  {
   "cell_type": "code",
   "execution_count": 32,
   "id": "3d6719c7-572e-4fab-aa5b-c4125e9e990d",
   "metadata": {},
   "outputs": [],
   "source": [
    "data2020 = clean_data(\"Crime_Data_from_2020_to_Present.csv\")\n",
    "\n",
    "data2020.keepColumns([\"Rpt Dist No\", \"Crm Cd\", \"DATE OCC\", \"Vict Age\", \"Vict Descent\", \"Vict Sex\"])\n",
    "oldNames = [\"Rpt Dist No\", \"Crm Cd\", \"DATE OCC\", \"Vict Age\", \"Vict Descent\", \"Vict Sex\"]\n",
    "newNames = [\"District\",\"Code\", \"Date\", \"Age\", \"Descent\", \"Sex\"]\n",
    "data2020.changeName(oldNames, newNames)"
   ]
  },
  {
   "cell_type": "code",
   "execution_count": null,
   "id": "dee8bc1a-18bf-4cfe-b903-798a78b2653f",
   "metadata": {},
   "outputs": [],
   "source": [
    "player_21 = Cleaner(\"all_seasons.csv\")\n",
    "\n",
    "player_21.getSeason(\"2020-21\")\n",
    "player_21.keepColumns([\"player_name\",\"team_abbreviation\",\"age\", \"player_height\", \"player_weight\", \"pts\", \"reb\", \"ast\", \"oreb_pct\", \"dreb_pct\",\n",
    "          \"usg_pct\", \"ts_pct\"])\n",
    "player_21.changeName([\"player_name\", \"team_abbreviation\"], [\"Player\", \"team\"])"
   ]
  }
 ],
 "metadata": {
  "kernelspec": {
   "display_name": "Python 3 (ipykernel)",
   "language": "python",
   "name": "python3"
  },
  "language_info": {
   "codemirror_mode": {
    "name": "ipython",
    "version": 3
   },
   "file_extension": ".py",
   "mimetype": "text/x-python",
   "name": "python",
   "nbconvert_exporter": "python",
   "pygments_lexer": "ipython3",
   "version": "3.9.12"
  }
 },
 "nbformat": 4,
 "nbformat_minor": 5
}
