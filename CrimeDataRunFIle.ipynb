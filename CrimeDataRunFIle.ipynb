{
 "cells": [
  {
   "cell_type": "markdown",
   "id": "be601878-6bb6-46b8-a6b2-2aab5c5767fd",
   "metadata": {},
   "source": [
    "**Predicting Sex from Various Crime Tags**"
   ]
  },
  {
   "cell_type": "markdown",
   "id": "a6d62675-87a3-472c-b525-2f4e40a0ec53",
   "metadata": {},
   "source": [
    "importing containers "
   ]
  },
  {
   "cell_type": "code",
   "execution_count": 110,
   "id": "abbb5342-616e-43ab-8515-bf9883b78d96",
   "metadata": {},
   "outputs": [],
   "source": [
    "import pandas as pd\n",
    "import numpy as np\n",
    "from Clean_Data import data_cleaner\n",
    "from sklearn import preprocessing\n"
   ]
  },
  {
   "cell_type": "code",
   "execution_count": 111,
   "id": "3d6719c7-572e-4fab-aa5b-c4125e9e990d",
   "metadata": {},
   "outputs": [],
   "source": [
    "#call columns and change names\n",
    "\n",
    "data2020 = data_cleaner(\"Crime_Data_from_2020_to_Present.csv\")\n",
    "\n",
    "data2020.keepColumns([\"Rpt Dist No\", \"Crm Cd\", \"DATE OCC\", \"Vict Age\", \"Vict Descent\", \"Vict Sex\"]) #works\n",
    "oldNames = [\"Rpt Dist No\", \"Crm Cd\", \"DATE OCC\", \"Vict Age\", \"Vict Descent\", \"Vict Sex\"]\n",
    "newNames = [\"District\",\"Code\", \"Date\", \"Age\", \"Descent\", \"Sex\"]\n",
    "data2020.changeName(oldNames, newNames)"
   ]
  },
  {
   "cell_type": "code",
   "execution_count": 86,
   "id": "dee8bc1a-18bf-4cfe-b903-798a78b2653f",
   "metadata": {},
   "outputs": [
    {
     "name": "stdout",
     "output_type": "stream",
     "text": [
      "Finished changing victim's sex to numbers (F = 0; M = 1)\n"
     ]
    }
   ],
   "source": [
    "# drop victims with unknown sex\n",
    "try:\n",
    "    data2020.sexToNum()\n",
    "except TypeError:\n",
    "    #dont know what this should print cuz the typeerror will already say the error \n",
    "    print(\"There were victim's with unknown sex, will delete all rows of victim's with unknown sex.\") \n",
    "    data2020.delRows()\n",
    "    data2020.sexToNum()\n",
    "finally:\n",
    "    print(\"Finished changing victim's sex to numbers (F = 0; M = 1)\")"
   ]
  },
  {
   "cell_type": "code",
   "execution_count": 195,
   "id": "6d2a5cf6",
   "metadata": {},
   "outputs": [],
   "source": [
    "checkData = pd.read_csv(\"Crime_Data_from_2020_to_Present.csv\")"
   ]
  },
  {
   "cell_type": "code",
   "execution_count": 196,
   "id": "3560bd2a",
   "metadata": {},
   "outputs": [],
   "source": [
    "def keepColumns(data, columns):\n",
    "        '''\n",
    "        keep the given columns\n",
    "        Args:\n",
    "            columns: an array of strings.\n",
    "        Return:\n",
    "            None.\n",
    "        '''\n",
    "        return checkData[columns]"
   ]
  },
  {
   "cell_type": "code",
   "execution_count": 197,
   "id": "2161cb1f",
   "metadata": {},
   "outputs": [],
   "source": [
    "checkData = keepColumns(checkData, [\"Rpt Dist No\", \"Crm Cd\", \"DATE OCC\", \"Vict Age\", \"Vict Descent\", \"Vict Sex\"])"
   ]
  },
  {
   "cell_type": "code",
   "execution_count": 198,
   "id": "2a6ca134",
   "metadata": {},
   "outputs": [
    {
     "data": {
      "text/html": [
       "<div>\n",
       "<style scoped>\n",
       "    .dataframe tbody tr th:only-of-type {\n",
       "        vertical-align: middle;\n",
       "    }\n",
       "\n",
       "    .dataframe tbody tr th {\n",
       "        vertical-align: top;\n",
       "    }\n",
       "\n",
       "    .dataframe thead th {\n",
       "        text-align: right;\n",
       "    }\n",
       "</style>\n",
       "<table border=\"1\" class=\"dataframe\">\n",
       "  <thead>\n",
       "    <tr style=\"text-align: right;\">\n",
       "      <th></th>\n",
       "      <th>Rpt Dist No</th>\n",
       "      <th>Crm Cd</th>\n",
       "      <th>DATE OCC</th>\n",
       "      <th>Vict Age</th>\n",
       "      <th>Vict Descent</th>\n",
       "      <th>Vict Sex</th>\n",
       "    </tr>\n",
       "  </thead>\n",
       "  <tbody>\n",
       "    <tr>\n",
       "      <th>0</th>\n",
       "      <td>377</td>\n",
       "      <td>624</td>\n",
       "      <td>01/08/2020 12:00:00 AM</td>\n",
       "      <td>36</td>\n",
       "      <td>B</td>\n",
       "      <td>F</td>\n",
       "    </tr>\n",
       "    <tr>\n",
       "      <th>1</th>\n",
       "      <td>163</td>\n",
       "      <td>624</td>\n",
       "      <td>01/01/2020 12:00:00 AM</td>\n",
       "      <td>25</td>\n",
       "      <td>H</td>\n",
       "      <td>M</td>\n",
       "    </tr>\n",
       "    <tr>\n",
       "      <th>2</th>\n",
       "      <td>155</td>\n",
       "      <td>845</td>\n",
       "      <td>02/13/2020 12:00:00 AM</td>\n",
       "      <td>0</td>\n",
       "      <td>X</td>\n",
       "      <td>X</td>\n",
       "    </tr>\n",
       "    <tr>\n",
       "      <th>3</th>\n",
       "      <td>1543</td>\n",
       "      <td>745</td>\n",
       "      <td>01/01/2020 12:00:00 AM</td>\n",
       "      <td>76</td>\n",
       "      <td>W</td>\n",
       "      <td>F</td>\n",
       "    </tr>\n",
       "    <tr>\n",
       "      <th>4</th>\n",
       "      <td>1998</td>\n",
       "      <td>740</td>\n",
       "      <td>01/01/2020 12:00:00 AM</td>\n",
       "      <td>31</td>\n",
       "      <td>X</td>\n",
       "      <td>X</td>\n",
       "    </tr>\n",
       "  </tbody>\n",
       "</table>\n",
       "</div>"
      ],
      "text/plain": [
       "   Rpt Dist No  Crm Cd                DATE OCC  Vict Age Vict Descent Vict Sex\n",
       "0          377     624  01/08/2020 12:00:00 AM        36            B        F\n",
       "1          163     624  01/01/2020 12:00:00 AM        25            H        M\n",
       "2          155     845  02/13/2020 12:00:00 AM         0            X        X\n",
       "3         1543     745  01/01/2020 12:00:00 AM        76            W        F\n",
       "4         1998     740  01/01/2020 12:00:00 AM        31            X        X"
      ]
     },
     "execution_count": 198,
     "metadata": {},
     "output_type": "execute_result"
    }
   ],
   "source": [
    "checkData.head()"
   ]
  },
  {
   "cell_type": "markdown",
   "id": "6e225d5d",
   "metadata": {},
   "source": [
    "# NOTE:\n",
    "\n",
    "**keepColumns works.**\n",
    "\n"
   ]
  },
  {
   "cell_type": "code",
   "execution_count": 199,
   "id": "d0015075",
   "metadata": {},
   "outputs": [],
   "source": [
    "oldNames = [\"Rpt Dist No\", \"Crm Cd\", \"DATE OCC\", \"Vict Age\", \"Vict Descent\", \"Vict Sex\"]\n",
    "newNames = [\"District\",\"Code\", \"Date\", \"Age\", \"Descent\", \"Sex\"]"
   ]
  },
  {
   "cell_type": "code",
   "execution_count": 200,
   "id": "01c1a9ac",
   "metadata": {},
   "outputs": [],
   "source": [
    "def changeName(data, oldName, newName):\n",
    "        '''\n",
    "        change the name of given columns\n",
    "        Args:\n",
    "            oldName: an array of strings.\n",
    "            newName: an array of strings.\n",
    "        Return:\n",
    "            None.\n",
    "        '''\n",
    "        for i in range(len(oldName)):\n",
    "            return data.rename(columns={oldName[i]: newName[i]})"
   ]
  },
  {
   "cell_type": "code",
   "execution_count": 201,
   "id": "f6541894",
   "metadata": {},
   "outputs": [],
   "source": [
    "checkData = changeName(checkData,oldNames, newNames)"
   ]
  },
  {
   "cell_type": "code",
   "execution_count": 202,
   "id": "0f6387cd",
   "metadata": {},
   "outputs": [
    {
     "data": {
      "text/html": [
       "<div>\n",
       "<style scoped>\n",
       "    .dataframe tbody tr th:only-of-type {\n",
       "        vertical-align: middle;\n",
       "    }\n",
       "\n",
       "    .dataframe tbody tr th {\n",
       "        vertical-align: top;\n",
       "    }\n",
       "\n",
       "    .dataframe thead th {\n",
       "        text-align: right;\n",
       "    }\n",
       "</style>\n",
       "<table border=\"1\" class=\"dataframe\">\n",
       "  <thead>\n",
       "    <tr style=\"text-align: right;\">\n",
       "      <th></th>\n",
       "      <th>District</th>\n",
       "      <th>Crm Cd</th>\n",
       "      <th>DATE OCC</th>\n",
       "      <th>Vict Age</th>\n",
       "      <th>Vict Descent</th>\n",
       "      <th>Vict Sex</th>\n",
       "    </tr>\n",
       "  </thead>\n",
       "  <tbody>\n",
       "    <tr>\n",
       "      <th>0</th>\n",
       "      <td>377</td>\n",
       "      <td>624</td>\n",
       "      <td>01/08/2020 12:00:00 AM</td>\n",
       "      <td>36</td>\n",
       "      <td>B</td>\n",
       "      <td>F</td>\n",
       "    </tr>\n",
       "    <tr>\n",
       "      <th>1</th>\n",
       "      <td>163</td>\n",
       "      <td>624</td>\n",
       "      <td>01/01/2020 12:00:00 AM</td>\n",
       "      <td>25</td>\n",
       "      <td>H</td>\n",
       "      <td>M</td>\n",
       "    </tr>\n",
       "    <tr>\n",
       "      <th>2</th>\n",
       "      <td>155</td>\n",
       "      <td>845</td>\n",
       "      <td>02/13/2020 12:00:00 AM</td>\n",
       "      <td>0</td>\n",
       "      <td>X</td>\n",
       "      <td>X</td>\n",
       "    </tr>\n",
       "    <tr>\n",
       "      <th>3</th>\n",
       "      <td>1543</td>\n",
       "      <td>745</td>\n",
       "      <td>01/01/2020 12:00:00 AM</td>\n",
       "      <td>76</td>\n",
       "      <td>W</td>\n",
       "      <td>F</td>\n",
       "    </tr>\n",
       "    <tr>\n",
       "      <th>4</th>\n",
       "      <td>1998</td>\n",
       "      <td>740</td>\n",
       "      <td>01/01/2020 12:00:00 AM</td>\n",
       "      <td>31</td>\n",
       "      <td>X</td>\n",
       "      <td>X</td>\n",
       "    </tr>\n",
       "  </tbody>\n",
       "</table>\n",
       "</div>"
      ],
      "text/plain": [
       "   District  Crm Cd                DATE OCC  Vict Age Vict Descent Vict Sex\n",
       "0       377     624  01/08/2020 12:00:00 AM        36            B        F\n",
       "1       163     624  01/01/2020 12:00:00 AM        25            H        M\n",
       "2       155     845  02/13/2020 12:00:00 AM         0            X        X\n",
       "3      1543     745  01/01/2020 12:00:00 AM        76            W        F\n",
       "4      1998     740  01/01/2020 12:00:00 AM        31            X        X"
      ]
     },
     "execution_count": 202,
     "metadata": {},
     "output_type": "execute_result"
    }
   ],
   "source": [
    "checkData.head()"
   ]
  },
  {
   "cell_type": "markdown",
   "id": "f6e95076",
   "metadata": {},
   "source": [
    "# NOTE:\n",
    "\n",
    "**changeName doesn't work.**\n",
    "\n"
   ]
  },
  {
   "cell_type": "code",
   "execution_count": 211,
   "id": "413d185a",
   "metadata": {},
   "outputs": [],
   "source": [
    "checkData = pd.read_csv(\"Crime_Data_from_2020_to_Present.csv\")\n",
    "checkData = keepColumns(checkData, [\"Rpt Dist No\", \"Crm Cd\", \"DATE OCC\", \"Vict Age\", \"Vict Descent\", \"Vict Sex\"])"
   ]
  },
  {
   "cell_type": "code",
   "execution_count": 212,
   "id": "229afaea",
   "metadata": {},
   "outputs": [],
   "source": [
    "def delRows(data):\n",
    "    data = data[data[\"Vict Sex\"] != \"X\"]\n",
    "    return data"
   ]
  },
  {
   "cell_type": "code",
   "execution_count": null,
   "id": "ebe477bd",
   "metadata": {},
   "outputs": [],
   "source": []
  },
  {
   "cell_type": "code",
   "execution_count": 215,
   "id": "fa1fe558",
   "metadata": {},
   "outputs": [],
   "source": [
    "def sexToNum(data):\n",
    "    if any(data[\"Vict Sex\"] == \"X\"):\n",
    "        raise TypeError(\"There are victim's with unknown sex in this dataset.\")\n",
    "    else:\n",
    "        le = preprocessing.LabelEncoder()\n",
    "        data['Vict Sex'] = le.fit_transform(data['Vict Sex'])\n",
    "        #change male values that are greater than 0 to 1. \n",
    "        #data[data[\"Vict Sex\"] > 0] = 1 this is wrong\n",
    "        return data\n",
    "\n"
   ]
  },
  {
   "cell_type": "code",
   "execution_count": 217,
   "id": "0e9dc990",
   "metadata": {},
   "outputs": [
    {
     "data": {
      "text/html": [
       "<div>\n",
       "<style scoped>\n",
       "    .dataframe tbody tr th:only-of-type {\n",
       "        vertical-align: middle;\n",
       "    }\n",
       "\n",
       "    .dataframe tbody tr th {\n",
       "        vertical-align: top;\n",
       "    }\n",
       "\n",
       "    .dataframe thead th {\n",
       "        text-align: right;\n",
       "    }\n",
       "</style>\n",
       "<table border=\"1\" class=\"dataframe\">\n",
       "  <thead>\n",
       "    <tr style=\"text-align: right;\">\n",
       "      <th></th>\n",
       "      <th>Rpt Dist No</th>\n",
       "      <th>Crm Cd</th>\n",
       "      <th>DATE OCC</th>\n",
       "      <th>Vict Age</th>\n",
       "      <th>Vict Descent</th>\n",
       "      <th>Vict Sex</th>\n",
       "    </tr>\n",
       "  </thead>\n",
       "  <tbody>\n",
       "    <tr>\n",
       "      <th>0</th>\n",
       "      <td>377</td>\n",
       "      <td>624</td>\n",
       "      <td>01/08/2020 12:00:00 AM</td>\n",
       "      <td>36</td>\n",
       "      <td>B</td>\n",
       "      <td>F</td>\n",
       "    </tr>\n",
       "    <tr>\n",
       "      <th>1</th>\n",
       "      <td>163</td>\n",
       "      <td>624</td>\n",
       "      <td>01/01/2020 12:00:00 AM</td>\n",
       "      <td>25</td>\n",
       "      <td>H</td>\n",
       "      <td>M</td>\n",
       "    </tr>\n",
       "    <tr>\n",
       "      <th>3</th>\n",
       "      <td>1543</td>\n",
       "      <td>745</td>\n",
       "      <td>01/01/2020 12:00:00 AM</td>\n",
       "      <td>76</td>\n",
       "      <td>W</td>\n",
       "      <td>F</td>\n",
       "    </tr>\n",
       "    <tr>\n",
       "      <th>5</th>\n",
       "      <td>163</td>\n",
       "      <td>121</td>\n",
       "      <td>01/01/2020 12:00:00 AM</td>\n",
       "      <td>25</td>\n",
       "      <td>H</td>\n",
       "      <td>F</td>\n",
       "    </tr>\n",
       "    <tr>\n",
       "      <th>6</th>\n",
       "      <td>161</td>\n",
       "      <td>442</td>\n",
       "      <td>01/02/2020 12:00:00 AM</td>\n",
       "      <td>23</td>\n",
       "      <td>H</td>\n",
       "      <td>M</td>\n",
       "    </tr>\n",
       "    <tr>\n",
       "      <th>...</th>\n",
       "      <td>...</td>\n",
       "      <td>...</td>\n",
       "      <td>...</td>\n",
       "      <td>...</td>\n",
       "      <td>...</td>\n",
       "      <td>...</td>\n",
       "    </tr>\n",
       "    <tr>\n",
       "      <th>599745</th>\n",
       "      <td>1249</td>\n",
       "      <td>626</td>\n",
       "      <td>06/07/2022 12:00:00 AM</td>\n",
       "      <td>57</td>\n",
       "      <td>B</td>\n",
       "      <td>F</td>\n",
       "    </tr>\n",
       "    <tr>\n",
       "      <th>599746</th>\n",
       "      <td>334</td>\n",
       "      <td>354</td>\n",
       "      <td>08/02/2022 12:00:00 AM</td>\n",
       "      <td>34</td>\n",
       "      <td>H</td>\n",
       "      <td>F</td>\n",
       "    </tr>\n",
       "    <tr>\n",
       "      <th>599747</th>\n",
       "      <td>1024</td>\n",
       "      <td>510</td>\n",
       "      <td>02/09/2022 12:00:00 AM</td>\n",
       "      <td>0</td>\n",
       "      <td>NaN</td>\n",
       "      <td>NaN</td>\n",
       "    </tr>\n",
       "    <tr>\n",
       "      <th>599748</th>\n",
       "      <td>1171</td>\n",
       "      <td>510</td>\n",
       "      <td>02/08/2022 12:00:00 AM</td>\n",
       "      <td>0</td>\n",
       "      <td>NaN</td>\n",
       "      <td>NaN</td>\n",
       "    </tr>\n",
       "    <tr>\n",
       "      <th>599749</th>\n",
       "      <td>1613</td>\n",
       "      <td>331</td>\n",
       "      <td>02/14/2022 12:00:00 AM</td>\n",
       "      <td>61</td>\n",
       "      <td>H</td>\n",
       "      <td>F</td>\n",
       "    </tr>\n",
       "  </tbody>\n",
       "</table>\n",
       "<p>551068 rows × 6 columns</p>\n",
       "</div>"
      ],
      "text/plain": [
       "        Rpt Dist No  Crm Cd                DATE OCC  Vict Age Vict Descent  \\\n",
       "0               377     624  01/08/2020 12:00:00 AM        36            B   \n",
       "1               163     624  01/01/2020 12:00:00 AM        25            H   \n",
       "3              1543     745  01/01/2020 12:00:00 AM        76            W   \n",
       "5               163     121  01/01/2020 12:00:00 AM        25            H   \n",
       "6               161     442  01/02/2020 12:00:00 AM        23            H   \n",
       "...             ...     ...                     ...       ...          ...   \n",
       "599745         1249     626  06/07/2022 12:00:00 AM        57            B   \n",
       "599746          334     354  08/02/2022 12:00:00 AM        34            H   \n",
       "599747         1024     510  02/09/2022 12:00:00 AM         0          NaN   \n",
       "599748         1171     510  02/08/2022 12:00:00 AM         0          NaN   \n",
       "599749         1613     331  02/14/2022 12:00:00 AM        61            H   \n",
       "\n",
       "       Vict Sex  \n",
       "0             F  \n",
       "1             M  \n",
       "3             F  \n",
       "5             F  \n",
       "6             M  \n",
       "...         ...  \n",
       "599745        F  \n",
       "599746        F  \n",
       "599747      NaN  \n",
       "599748      NaN  \n",
       "599749        F  \n",
       "\n",
       "[551068 rows x 6 columns]"
      ]
     },
     "execution_count": 217,
     "metadata": {},
     "output_type": "execute_result"
    }
   ],
   "source": [
    "checkData"
   ]
  },
  {
   "cell_type": "code",
   "execution_count": 216,
   "id": "2e140008",
   "metadata": {
    "scrolled": true
   },
   "outputs": [],
   "source": [
    "checkData = delRows(checkData)\n"
   ]
  },
  {
   "cell_type": "code",
   "execution_count": null,
   "id": "c8914253",
   "metadata": {},
   "outputs": [],
   "source": []
  },
  {
   "cell_type": "code",
   "execution_count": null,
   "id": "deb8c9d2",
   "metadata": {},
   "outputs": [],
   "source": [
    "try:\n",
    "    sexToNum(checkData)\n",
    "except TypeError:\n",
    "    #dont know what this should print cuz the typeerror will already say the error \n",
    "    print(\"There were victim's with unknown sex, will delete all rows of victim's with unknown sex.\") \n",
    "    checkData = delRows(checkData)\n",
    "    checkData = sexToNum(checkData)\n",
    "finally:\n",
    "    print(\"Finished changing victim's sex to numbers (F = 0; M = 1)\")"
   ]
  },
  {
   "cell_type": "markdown",
   "id": "f158b55b",
   "metadata": {},
   "source": [
    "# Note\n",
    "\n",
    "**sexToNum does convert all the females correctly into 0s. But it makes the males an int greater than 0 for some reason. We need to figure out why it's doing that and how to correct it.**\n",
    "\n",
    "\n",
    "**when cleaning the data we also have NaN values that need cleaning, i've readded the delNa we need to add that in our procedure.**"
   ]
  },
  {
   "cell_type": "code",
   "execution_count": null,
   "id": "8a183c4b",
   "metadata": {},
   "outputs": [],
   "source": []
  },
  {
   "cell_type": "code",
   "execution_count": null,
   "id": "61788810",
   "metadata": {},
   "outputs": [],
   "source": []
  },
  {
   "cell_type": "code",
   "execution_count": null,
   "id": "de4f7e59",
   "metadata": {},
   "outputs": [],
   "source": []
  },
  {
   "cell_type": "code",
   "execution_count": null,
   "id": "20f67c03",
   "metadata": {},
   "outputs": [],
   "source": []
  },
  {
   "cell_type": "code",
   "execution_count": null,
   "id": "61c1cecf",
   "metadata": {},
   "outputs": [],
   "source": []
  }
 ],
 "metadata": {
  "kernelspec": {
   "display_name": "Python 3 (ipykernel)",
   "language": "python",
   "name": "python3"
  },
  "language_info": {
   "codemirror_mode": {
    "name": "ipython",
    "version": 3
   },
   "file_extension": ".py",
   "mimetype": "text/x-python",
   "name": "python",
   "nbconvert_exporter": "python",
   "pygments_lexer": "ipython3",
   "version": "3.9.12"
  }
 },
 "nbformat": 4,
 "nbformat_minor": 5
}
