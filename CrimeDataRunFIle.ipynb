{
 "cells": [
  {
   "cell_type": "markdown",
   "id": "be601878-6bb6-46b8-a6b2-2aab5c5767fd",
   "metadata": {},
   "source": [
    "**Predicting Sex from Various Crime Tags**"
   ]
  },
  {
   "cell_type": "markdown",
   "id": "a6d62675-87a3-472c-b525-2f4e40a0ec53",
   "metadata": {},
   "source": [
    "importing containers "
   ]
  },
  {
   "cell_type": "code",
   "execution_count": 1,
   "id": "abbb5342-616e-43ab-8515-bf9883b78d96",
   "metadata": {},
   "outputs": [],
   "source": [
    "import pandas as pd\n",
    "import numpy as np\n",
    "from matplotlib import pyplot as plt\n",
    "from sklearn import tree\n",
    "from Clean_Data import data_cleaner\n",
    "from sklearn import preprocessing\n",
    "from sklearn.model_selection import train_test_split\n",
    "from sklearn.model_selection import cross_val_score"
   ]
  },
  {
   "cell_type": "code",
   "execution_count": 2,
   "id": "6c846453",
   "metadata": {},
   "outputs": [
    {
     "data": {
      "text/plain": [
       "(599750, 28)"
      ]
     },
     "execution_count": 2,
     "metadata": {},
     "output_type": "execute_result"
    }
   ],
   "source": [
    "checkData = pd.read_csv(\"Crime_Data_from_2020_to_Present.csv\")\n",
    "checkData.shape"
   ]
  },
  {
   "cell_type": "code",
   "execution_count": 3,
   "id": "3d6719c7-572e-4fab-aa5b-c4125e9e990d",
   "metadata": {
    "scrolled": true
   },
   "outputs": [],
   "source": [
    "#call columns and change names\n",
    "\n",
    "data2020 = data_cleaner(\"Crime_Data_from_2020_to_Present.csv\")\n",
    "\n",
    "data2020.keepColumns([\"Rpt Dist No\", \"Crm Cd\", \"DATE OCC\", \"Vict Age\", \"Vict Descent\", \"Vict Sex\"]) \n",
    "\n",
    "oldNames = [\"Rpt Dist No\", \"Crm Cd\", \"DATE OCC\", \"Vict Age\", \"Vict Descent\", \"Vict Sex\"]\n",
    "newNames = [\"District\",\"Code\", \"Date\", \"Age\", \"Descent\", \"Sex\"]\n",
    "data2020.changeName(oldNames, newNames)"
   ]
  },
  {
   "cell_type": "code",
   "execution_count": 4,
   "id": "2e07c409",
   "metadata": {},
   "outputs": [],
   "source": [
    "#change the date/time to only dates format\n",
    "data2020.onlyDate(\"Date\")"
   ]
  },
  {
   "cell_type": "code",
   "execution_count": 5,
   "id": "d643fa2e",
   "metadata": {},
   "outputs": [],
   "source": [
    "#drop the NaN rows\n",
    "data2020.delNa()"
   ]
  },
  {
   "cell_type": "code",
   "execution_count": 6,
   "id": "dee8bc1a-18bf-4cfe-b903-798a78b2653f",
   "metadata": {
    "scrolled": true
   },
   "outputs": [
    {
     "name": "stdout",
     "output_type": "stream",
     "text": [
      "There were victim's with unknown sex, will delete all rows of victim's with unknown sex.\n",
      "Finished changing victim's sex to numbers (F = 0; M = 1)\n"
     ]
    }
   ],
   "source": [
    "# drop victims with unknown sex\n",
    "try:\n",
    "    data2020.toNum()\n",
    "except TypeError:\n",
    "    #dont know what this should print cuz the typeerror will already say the error \n",
    "    print(\"There were victim's with unknown sex, will delete all rows of victim's with unknown sex.\") \n",
    "    data2020.delRows() #deletes both unknown descent and unknown sex.\n",
    "    data2020.toNum()\n",
    "finally:\n",
    "    print(\"Finished changing victim's sex to numbers (F = 0; M = 1)\")"
   ]
  },
  {
   "cell_type": "code",
   "execution_count": 7,
   "id": "927ad7f4",
   "metadata": {},
   "outputs": [
    {
     "data": {
      "text/html": [
       "<div>\n",
       "<style scoped>\n",
       "    .dataframe tbody tr th:only-of-type {\n",
       "        vertical-align: middle;\n",
       "    }\n",
       "\n",
       "    .dataframe tbody tr th {\n",
       "        vertical-align: top;\n",
       "    }\n",
       "\n",
       "    .dataframe thead th {\n",
       "        text-align: right;\n",
       "    }\n",
       "</style>\n",
       "<table border=\"1\" class=\"dataframe\">\n",
       "  <thead>\n",
       "    <tr style=\"text-align: right;\">\n",
       "      <th></th>\n",
       "      <th>District</th>\n",
       "      <th>Code</th>\n",
       "      <th>Date</th>\n",
       "      <th>Age</th>\n",
       "      <th>Descent</th>\n",
       "      <th>Sex</th>\n",
       "    </tr>\n",
       "  </thead>\n",
       "  <tbody>\n",
       "    <tr>\n",
       "      <th>0</th>\n",
       "      <td>377</td>\n",
       "      <td>624</td>\n",
       "      <td>2020-01-08</td>\n",
       "      <td>36</td>\n",
       "      <td>1</td>\n",
       "      <td>0</td>\n",
       "    </tr>\n",
       "    <tr>\n",
       "      <th>1</th>\n",
       "      <td>163</td>\n",
       "      <td>624</td>\n",
       "      <td>2020-01-01</td>\n",
       "      <td>25</td>\n",
       "      <td>6</td>\n",
       "      <td>1</td>\n",
       "    </tr>\n",
       "    <tr>\n",
       "      <th>3</th>\n",
       "      <td>1543</td>\n",
       "      <td>745</td>\n",
       "      <td>2020-01-01</td>\n",
       "      <td>76</td>\n",
       "      <td>16</td>\n",
       "      <td>0</td>\n",
       "    </tr>\n",
       "    <tr>\n",
       "      <th>5</th>\n",
       "      <td>163</td>\n",
       "      <td>121</td>\n",
       "      <td>2020-01-01</td>\n",
       "      <td>25</td>\n",
       "      <td>6</td>\n",
       "      <td>0</td>\n",
       "    </tr>\n",
       "    <tr>\n",
       "      <th>6</th>\n",
       "      <td>161</td>\n",
       "      <td>442</td>\n",
       "      <td>2020-01-02</td>\n",
       "      <td>23</td>\n",
       "      <td>6</td>\n",
       "      <td>1</td>\n",
       "    </tr>\n",
       "    <tr>\n",
       "      <th>...</th>\n",
       "      <td>...</td>\n",
       "      <td>...</td>\n",
       "      <td>...</td>\n",
       "      <td>...</td>\n",
       "      <td>...</td>\n",
       "      <td>...</td>\n",
       "    </tr>\n",
       "    <tr>\n",
       "      <th>599743</th>\n",
       "      <td>1512</td>\n",
       "      <td>420</td>\n",
       "      <td>2022-06-09</td>\n",
       "      <td>46</td>\n",
       "      <td>11</td>\n",
       "      <td>1</td>\n",
       "    </tr>\n",
       "    <tr>\n",
       "      <th>599744</th>\n",
       "      <td>239</td>\n",
       "      <td>210</td>\n",
       "      <td>2022-06-09</td>\n",
       "      <td>33</td>\n",
       "      <td>6</td>\n",
       "      <td>1</td>\n",
       "    </tr>\n",
       "    <tr>\n",
       "      <th>599745</th>\n",
       "      <td>1249</td>\n",
       "      <td>626</td>\n",
       "      <td>2022-06-07</td>\n",
       "      <td>57</td>\n",
       "      <td>1</td>\n",
       "      <td>0</td>\n",
       "    </tr>\n",
       "    <tr>\n",
       "      <th>599746</th>\n",
       "      <td>334</td>\n",
       "      <td>354</td>\n",
       "      <td>2022-08-02</td>\n",
       "      <td>34</td>\n",
       "      <td>6</td>\n",
       "      <td>0</td>\n",
       "    </tr>\n",
       "    <tr>\n",
       "      <th>599749</th>\n",
       "      <td>1613</td>\n",
       "      <td>331</td>\n",
       "      <td>2022-02-14</td>\n",
       "      <td>61</td>\n",
       "      <td>6</td>\n",
       "      <td>0</td>\n",
       "    </tr>\n",
       "  </tbody>\n",
       "</table>\n",
       "<p>465700 rows × 6 columns</p>\n",
       "</div>"
      ],
      "text/plain": [
       "        District  Code       Date  Age  Descent  Sex\n",
       "0            377   624 2020-01-08   36        1    0\n",
       "1            163   624 2020-01-01   25        6    1\n",
       "3           1543   745 2020-01-01   76       16    0\n",
       "5            163   121 2020-01-01   25        6    0\n",
       "6            161   442 2020-01-02   23        6    1\n",
       "...          ...   ...        ...  ...      ...  ...\n",
       "599743      1512   420 2022-06-09   46       11    1\n",
       "599744       239   210 2022-06-09   33        6    1\n",
       "599745      1249   626 2022-06-07   57        1    0\n",
       "599746       334   354 2022-08-02   34        6    0\n",
       "599749      1613   331 2022-02-14   61        6    0\n",
       "\n",
       "[465700 rows x 6 columns]"
      ]
     },
     "execution_count": 7,
     "metadata": {},
     "output_type": "execute_result"
    }
   ],
   "source": [
    "#convert into a data frame\n",
    "crimedata = data2020.createDF()\n",
    "crimedata"
   ]
  },
  {
   "cell_type": "code",
   "execution_count": 8,
   "id": "ca40e23c",
   "metadata": {
    "scrolled": true
   },
   "outputs": [],
   "source": [
    "#create the x and y variables\n",
    "#use everything but sex and date\n",
    "#y = predictor variable\n",
    "\n",
    "X = crimedata.drop(['Sex', 'Date'], axis=1) \n",
    "y = crimedata[\"Sex\"]"
   ]
  },
  {
   "cell_type": "code",
   "execution_count": 9,
   "id": "30ba9b5c",
   "metadata": {},
   "outputs": [
    {
     "data": {
      "text/plain": [
       "<matplotlib.legend.Legend at 0x7faccef60d60>"
      ]
     },
     "execution_count": 9,
     "metadata": {},
     "output_type": "execute_result"
    },
    {
     "data": {
      "image/png": "[encoded data removed]",
      "text/plain": [
       "<Figure size 720x720 with 4 Axes>"
      ]
     },
     "metadata": {
      "needs_background": "light"
     },
     "output_type": "display_data"
    }
   ],
   "source": [
    "fig, ax = plt.subplots(2,2, figsize=(10,10))\n",
    "M = crimedata[crimedata[\"Sex\"]== 1]\n",
    "F = crimedata[crimedata[\"Sex\"]== 0]\n",
    "plt.suptitle(\"Comparison of Variables by Sex\", fontsize=20)\n",
    "ax[0,0].set(title=\"Victim Age\", xlabel=\"Age\", ylabel= 'Number of Victims')\n",
    "ax[0,0].hist(F[\"Age\"], color = \"red\", alpha = 0.5, label = \"Female\")\n",
    "ax[0,0].hist(M[\"Age\"], color = \"blue\", alpha = 0.5, label = \"Male\")\n",
    "ax[1,0].set(title=\"Victim Descent\", xlabel=\"Descent\", ylabel= 'Number of Victims')\n",
    "ax[1,0].hist(F[\"Descent\"], color = \"red\", alpha = 0.5, label = \"Female\")\n",
    "ax[1,0].hist(M[\"Descent\"], color = \"blue\", alpha = 0.5, label = \"Male\")\n",
    "ax[0,1].set(title=\"Victim District\", xlabel=\"District\", ylabel= 'Number of Victims')\n",
    "ax[0,1].hist(F[\"District\"], color = \"red\", alpha = 0.5, label = \"Female\")\n",
    "ax[0,1].hist(M[\"District\"], color = \"blue\", alpha = 0.5, label = \"Male\")\n",
    "ax[1,1].set(title=\"Victim Code\", xlabel=\"Code\", ylabel= 'Number of Victims')\n",
    "ax[1,1].hist(F[\"Code\"], color = \"red\", alpha = 0.5, label = \"Female\")\n",
    "ax[1,1].hist(M[\"Code\"], color = \"blue\", alpha = 0.5, label = \"Male\")\n",
    "ax[0,0].legend(('Male', 'Female'), loc='upper right')\n",
    "ax[1,0].legend(('Male', 'Female'), loc='upper right')\n",
    "ax[0,1].legend(('Male', 'Female'), loc='upper right')\n",
    "ax[1,1].legend(('Male', 'Female'), loc='upper right')"
   ]
  },
  {
   "cell_type": "code",
   "execution_count": 10,
   "id": "6d2a5cf6",
   "metadata": {},
   "outputs": [],
   "source": [
    "#decision tree functions from lecture 20\n",
    "\n",
    "def fit_tree(X, y, d):\n",
    "    T = tree.DecisionTreeClassifier(max_depth=d)\n",
    "    T.fit(X, y)\n",
    "    return T\n",
    "\n",
    "def plot_tree(T, cols, figsize=(10,10)):\n",
    "    fig, ax = plt.subplots(1, 1, figsize=figsize)\n",
    "    p = tree.plot_tree(T, filled=True, feature_names=cols)\n",
    "    plt.show()"
   ]
  },
  {
   "cell_type": "code",
   "execution_count": 11,
   "id": "3560bd2a",
   "metadata": {},
   "outputs": [],
   "source": [
    "#split the training and testing data\n",
    "\n",
    "X_train, X_test, y_train, y_test = train_test_split(X, y, test_size=0.3)"
   ]
  },
  {
   "cell_type": "code",
   "execution_count": 12,
   "id": "c7448186",
   "metadata": {
    "scrolled": true
   },
   "outputs": [
    {
     "data": {
      "image/png": "[encoded data removed]",
      "text/plain": [
       "<Figure size 864x576 with 1 Axes>"
      ]
     },
     "metadata": {
      "needs_background": "light"
     },
     "output_type": "display_data"
    },
    {
     "name": "stdout",
     "output_type": "stream",
     "text": [
      "0.6366043948178369\n"
     ]
    }
   ],
   "source": [
    "#determine the best max depth without using cross validation\n",
    "\n",
    "fig, ax = plt.subplots(1, figsize= (12, 8))\n",
    "fig.suptitle('Non-Cross Validated Scores', fontsize=30)\n",
    "depths = range(1, 30)\n",
    "train_scores = []\n",
    "test_scores = []\n",
    "\n",
    "for d in depths:\n",
    "    T = fit_tree(X_train, y_train, d)\n",
    "    train_score = T.score(X_train, y_train)\n",
    "    test_score = T.score(X_test, y_test)\n",
    "    \n",
    "    train_scores.append(train_score)\n",
    "    test_scores.append(test_score)\n",
    "\n",
    "ax.scatter(depths, train_scores, label='train score')\n",
    "ax.scatter(depths, test_scores, label='test score')\n",
    "ax.set(xlabel=\"depth\", ylabel= 'score')\n",
    "plt.legend(fontsize=40)\n",
    "plt.show()\n",
    "\n",
    "print(max(test_scores))"
   ]
  },
  {
   "cell_type": "code",
   "execution_count": 13,
   "id": "3db5ce8b",
   "metadata": {},
   "outputs": [],
   "source": [
    "def best_depth(X_train, y_train, X_test, y_test, max_check):\n",
    "    diff_score = {}\n",
    "    test_scores = {}\n",
    "    for i in range(1,max_check):\n",
    "        T = fit_tree(X_train, y_train, i)\n",
    "        diff_score[i] = T.score(X_train, y_train) - T.score(X_test, y_test)\n",
    "        test_scores[i] = T.score(X_test, y_test)\n",
    "        \n",
    "    best_score_key = max(test_scores, key = test_scores.get)\n",
    "    print(\"Minimum difference between Train and Test occurs at max_depth:\\t\", min(diff_score, key = diff_score.get))\n",
    "    print(\"Best test score occurs at max_depth:\\t \", best_score_key)\n",
    "    print(\"Best test score:\\t\", max(test_scores.values()))\n",
    "    return best_score_key"
   ]
  },
  {
   "cell_type": "code",
   "execution_count": 14,
   "id": "a1466911",
   "metadata": {
    "scrolled": false
   },
   "outputs": [
    {
     "name": "stdout",
     "output_type": "stream",
     "text": [
      "Minimum difference between Train and Test occurs at max_depth:\t 4\n",
      "Best test score occurs at max_depth:\t  12\n",
      "Best test score:\t 0.6366115525016105\n"
     ]
    }
   ],
   "source": [
    "test_depth = best_depth(X_train,y_train,  X_test, y_test, 15)"
   ]
  },
  {
   "cell_type": "code",
   "execution_count": 15,
   "id": "937e5f7f",
   "metadata": {},
   "outputs": [
    {
     "data": {
      "image/png": "[encoded data removed]",
      "text/plain": [
       "<Figure size 864x576 with 1 Axes>"
      ]
     },
     "metadata": {
      "needs_background": "light"
     },
     "output_type": "display_data"
    },
    {
     "name": "stdout",
     "output_type": "stream",
     "text": [
      "0.6298117529167561\n"
     ]
    }
   ],
   "source": [
    "# Determine the best max depth using 3-fold cross validation\n",
    "\n",
    "fig, ax = plt.subplots(1, figsize= (12, 8))\n",
    "fig.suptitle('3-Fold Cross Validated Scores', fontsize=30)\n",
    "depths = range(1, 30)\n",
    "train_scores = []\n",
    "test_scores = []\n",
    "\n",
    "for d in depths:  \n",
    "    T = fit_tree(X_train, y_train, d)\n",
    "    \n",
    "    cv_train_scores = cross_val_score(T, X_train, y_train, cv=3)\n",
    "    cv_test_scores = cross_val_score(T, X_test, y_test, cv=3)\n",
    "    \n",
    "    train_score = cv_train_scores.mean()\n",
    "    test_score = cv_test_scores.mean()\n",
    "    \n",
    "    train_scores.append(train_score)\n",
    "    test_scores.append(test_score)\n",
    "\n",
    "ax.scatter(depths, train_scores, label='train score')\n",
    "ax.scatter(depths, test_scores, label='test score')\n",
    "ax.set(xlabel=\"depth\", ylabel= 'score')\n",
    "plt.legend(fontsize=40)\n",
    "plt.show()\n",
    "\n",
    "print(max(test_scores))"
   ]
  },
  {
   "cell_type": "code",
   "execution_count": null,
   "id": "e173b6e4",
   "metadata": {},
   "outputs": [],
   "source": [
    "#decision tree\n",
    "T2 = fit_tree(X,y, 11)\n",
    "plot_tree(T2, X.columns)\n",
    "print(T2.score(X,y))"
   ]
  },
  {
   "cell_type": "code",
   "execution_count": null,
   "id": "8053e45e",
   "metadata": {
    "scrolled": true
   },
   "outputs": [],
   "source": []
  },
  {
   "cell_type": "code",
   "execution_count": null,
   "id": "2ffa0375",
   "metadata": {},
   "outputs": [],
   "source": []
  },
  {
   "cell_type": "code",
   "execution_count": null,
   "id": "2161cb1f",
   "metadata": {},
   "outputs": [],
   "source": []
  },
  {
   "cell_type": "code",
   "execution_count": null,
   "id": "0a471e6c",
   "metadata": {},
   "outputs": [],
   "source": []
  },
  {
   "cell_type": "code",
   "execution_count": null,
   "id": "026f7dce",
   "metadata": {},
   "outputs": [],
   "source": []
  },
  {
   "cell_type": "code",
   "execution_count": null,
   "id": "b14923db",
   "metadata": {},
   "outputs": [],
   "source": []
  },
  {
   "cell_type": "code",
   "execution_count": null,
   "id": "1e069135",
   "metadata": {},
   "outputs": [],
   "source": []
  },
  {
   "cell_type": "code",
   "execution_count": null,
   "id": "2a6ca134",
   "metadata": {},
   "outputs": [],
   "source": []
  },
  {
   "cell_type": "code",
   "execution_count": null,
   "id": "d0015075",
   "metadata": {},
   "outputs": [],
   "source": []
  },
  {
   "cell_type": "code",
   "execution_count": null,
   "id": "01c1a9ac",
   "metadata": {},
   "outputs": [],
   "source": []
  },
  {
   "cell_type": "code",
   "execution_count": null,
   "id": "f6541894",
   "metadata": {},
   "outputs": [],
   "source": []
  },
  {
   "cell_type": "code",
   "execution_count": null,
   "id": "0f6387cd",
   "metadata": {},
   "outputs": [],
   "source": []
  },
  {
   "cell_type": "code",
   "execution_count": null,
   "id": "413d185a",
   "metadata": {},
   "outputs": [],
   "source": []
  },
  {
   "cell_type": "code",
   "execution_count": null,
   "id": "229afaea",
   "metadata": {},
   "outputs": [],
   "source": []
  },
  {
   "cell_type": "code",
   "execution_count": null,
   "id": "ebe477bd",
   "metadata": {},
   "outputs": [],
   "source": []
  },
  {
   "cell_type": "code",
   "execution_count": null,
   "id": "fa1fe558",
   "metadata": {},
   "outputs": [],
   "source": []
  },
  {
   "cell_type": "code",
   "execution_count": null,
   "id": "0e9dc990",
   "metadata": {},
   "outputs": [],
   "source": []
  },
  {
   "cell_type": "code",
   "execution_count": null,
   "id": "2e140008",
   "metadata": {
    "scrolled": true
   },
   "outputs": [],
   "source": []
  },
  {
   "cell_type": "code",
   "execution_count": null,
   "id": "d9080e21",
   "metadata": {},
   "outputs": [],
   "source": []
  },
  {
   "cell_type": "code",
   "execution_count": null,
   "id": "121397e4",
   "metadata": {},
   "outputs": [],
   "source": []
  },
  {
   "cell_type": "code",
   "execution_count": null,
   "id": "5df166d5",
   "metadata": {},
   "outputs": [],
   "source": []
  },
  {
   "cell_type": "code",
   "execution_count": null,
   "id": "105a0bab",
   "metadata": {},
   "outputs": [],
   "source": []
  },
  {
   "cell_type": "code",
   "execution_count": null,
   "id": "deb8c9d2",
   "metadata": {
    "scrolled": true
   },
   "outputs": [],
   "source": []
  },
  {
   "cell_type": "code",
   "execution_count": null,
   "id": "59484608",
   "metadata": {},
   "outputs": [],
   "source": []
  },
  {
   "cell_type": "code",
   "execution_count": null,
   "id": "871ba979",
   "metadata": {},
   "outputs": [],
   "source": []
  },
  {
   "cell_type": "code",
   "execution_count": null,
   "id": "8a183c4b",
   "metadata": {},
   "outputs": [],
   "source": []
  },
  {
   "cell_type": "code",
   "execution_count": null,
   "id": "61788810",
   "metadata": {},
   "outputs": [],
   "source": []
  },
  {
   "cell_type": "code",
   "execution_count": null,
   "id": "de4f7e59",
   "metadata": {},
   "outputs": [],
   "source": []
  },
  {
   "cell_type": "code",
   "execution_count": null,
   "id": "20f67c03",
   "metadata": {},
   "outputs": [],
   "source": []
  },
  {
   "cell_type": "code",
   "execution_count": null,
   "id": "61c1cecf",
   "metadata": {},
   "outputs": [],
   "source": []
  }
 ],
 "metadata": {
  "kernelspec": {
   "display_name": "Python 3 (ipykernel)",
   "language": "python",
   "name": "python3"
  },
  "language_info": {
   "codemirror_mode": {
    "name": "ipython",
    "version": 3
   },
   "file_extension": ".py",
   "mimetype": "text/x-python",
   "name": "python",
   "nbconvert_exporter": "python",
   "pygments_lexer": "ipython3",
   "version": "3.9.12"
  }
 },
 "nbformat": 4,
 "nbformat_minor": 5
}
